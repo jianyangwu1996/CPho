{
 "cells": [
  {
   "cell_type": "markdown",
   "source": [
    "# Homework 1"
   ],
   "metadata": {
    "collapsed": false
   }
  },
  {
   "cell_type": "markdown",
   "source": [
    "## Test result"
   ],
   "metadata": {
    "collapsed": false
   }
  },
  {
   "cell_type": "code",
   "execution_count": 1,
   "outputs": [],
   "source": [
    "import numpy as np\n",
    "import time\n",
    "from homework1.Homework_1_function_headers_group4 import guided_modes_1DTE_wu as wu_1D\n",
    "from homework1.Homework_1_function_headers_group4 import guided_modes_1DTE_gao as gao_1D\n",
    "from homework1.Homework_1_function_headers_group4 import guided_modes_2D_wu as wu_2D\n",
    "from homework1.Homework_1_function_headers_group4 import guided_modes_2D_gao as gao_2D"
   ],
   "metadata": {
    "collapsed": false
   }
  },
  {
   "cell_type": "code",
   "execution_count": 2,
   "outputs": [],
   "source": [
    "#global parameters\n",
    "lam = 0.78\n",
    "k0 = 2*np.pi/lam\n",
    "e_substrate = 2.25\n",
    "delta_e = 1.5e-2\n",
    "w = 15.0"
   ],
   "metadata": {
    "collapsed": false
   }
  },
  {
   "cell_type": "markdown",
   "source": [
    "### Task 1"
   ],
   "metadata": {
    "collapsed": false
   }
  },
  {
   "cell_type": "code",
   "execution_count": 3,
   "outputs": [],
   "source": [
    "# Test parameters for Task 1 (length unit in )\n",
    "grid_size = 120\n",
    "number_points = 601\n",
    "h = grid_size/(number_points - 1)\n",
    "xx = np.linspace( -grid_size/2, grid_size/2, number_points )\n",
    "prm = e_substrate + delta_e * np.exp(-(xx/w)**2)"
   ],
   "metadata": {
    "collapsed": false
   }
  },
  {
   "cell_type": "code",
   "execution_count": 4,
   "outputs": [],
   "source": [
    "eff_eps_wu, guided_wu = wu_1D(prm, k0, h)"
   ],
   "metadata": {
    "collapsed": false
   }
  },
  {
   "cell_type": "code",
   "execution_count": 5,
   "outputs": [],
   "source": [
    "eff_eps_gao, guided_gao = gao_1D(prm, k0, h)"
   ],
   "metadata": {
    "collapsed": false
   }
  },
  {
   "cell_type": "code",
   "execution_count": 6,
   "outputs": [
    {
     "name": "stdout",
     "output_type": "stream",
     "text": [
      "Are the two groups of eigenvalue equal?: True\n",
      "The selected eigenvalues are: \n",
      " [2.2640123  2.26209021 2.26027663 2.25857565 2.25699215 2.25553205\n",
      " 2.25420271 2.25301361 2.25197755 2.25111299 2.25044991 2.25004544]\n",
      "Are the two groups of eigen vector equal?: False\n",
      "0 True\n",
      "1 False\n",
      "2 True\n",
      "3 True\n",
      "4 True\n",
      "5 False\n",
      "6 True\n",
      "7 True\n",
      "8 False\n",
      "9 False\n",
      "10 True\n",
      "11 True\n"
     ]
    }
   ],
   "source": [
    "e_max = prm.max()\n",
    "\n",
    "idx_wu = (eff_eps_wu < e_max) & (eff_eps_wu > e_substrate)\n",
    "idx_gao = (eff_eps_gao < e_max) & (eff_eps_gao > e_substrate)\n",
    "\n",
    "eff_eps_wu_selected = eff_eps_wu[idx_wu]\n",
    "eff_eps_gao_selected = eff_eps_gao[idx_gao]\n",
    "\n",
    "print(\"Are the two groups of eigenvalue equal?:\", np.allclose(eff_eps_wu_selected, eff_eps_gao_selected))\n",
    "print(\"The selected eigenvalues are:\", \"\\n\", eff_eps_wu_selected)\n",
    "print(\"Are the two groups of eigen vector equal?:\", np.allclose(guided_wu[:, idx_wu], guided_gao[:, idx_gao]))\n",
    "idx_wu = np.argwhere(idx_wu == True)\n",
    "idx_gao = np.argwhere(idx_gao == True)\n",
    "for i in range(12):\n",
    "    print(i, np.allclose(guided_wu[:, idx_wu[i]], guided_gao[:, idx_gao[i]]))"
   ],
   "metadata": {
    "collapsed": false
   }
  },
  {
   "cell_type": "markdown",
   "source": [
    "### Task 2"
   ],
   "metadata": {
    "collapsed": false
   }
  },
  {
   "cell_type": "code",
   "execution_count": 7,
   "outputs": [],
   "source": [
    "#2D Example Parameters\n",
    "grid_size = 120\n",
    "number_points = 301\n",
    "numb = 10\n",
    "h = grid_size/(number_points - 1)\n",
    "xx = np.linspace(-grid_size/2-h,grid_size/2+h,number_points+2)\n",
    "yy = np.linspace(-grid_size/2,grid_size/2,number_points)\n",
    "XX,YY = np.meshgrid(xx,yy)\n",
    "prm = e_substrate + delta_e * np.exp(-(XX**2+YY**2)/w**2)"
   ],
   "metadata": {
    "collapsed": false
   }
  },
  {
   "cell_type": "code",
   "execution_count": 8,
   "outputs": [],
   "source": [
    "start = time.time()\n",
    "eff_eps2d_wu, guided2d_wu = wu_2D(prm, k0, h, numb)\n",
    "end = time.time()\n",
    "time_wu = end - start"
   ],
   "metadata": {
    "collapsed": false
   }
  },
  {
   "cell_type": "code",
   "execution_count": 9,
   "outputs": [],
   "source": [
    "start = time.time()\n",
    "eff_eps2d_gao, guided2d_gao = gao_2D(prm, k0, h, numb)\n",
    "end = time.time()\n",
    "time_gao = end - start"
   ],
   "metadata": {
    "collapsed": false
   }
  },
  {
   "cell_type": "code",
   "execution_count": 10,
   "outputs": [
    {
     "name": "stdout",
     "output_type": "stream",
     "text": [
      "Are the two groups of eigenvalue equal?: True\n",
      "Running time of wu's method 2.6268889904022217\n",
      "Running time of gao's method 2.672642707824707\n",
      "The largest 10 eigenvalues are: \n",
      " [2.26304305 2.26115868 2.26115868 2.2594208  2.25935066 2.25934865\n",
      " 2.25776268 2.25761929 2.25776268 2.25761929]\n"
     ]
    }
   ],
   "source": [
    "print(\"Are the two groups of eigenvalue equal?:\", np.allclose(eff_eps2d_wu, eff_eps2d_gao))\n",
    "print(\"Running time of wu's method\", time_wu)\n",
    "print(\"Running time of gao's method\", time_gao)\n",
    "print(\"The largest 10 eigenvalues are:\", \"\\n\", eff_eps2d_gao.real)"
   ],
   "metadata": {
    "collapsed": false
   }
  },
  {
   "cell_type": "code",
   "execution_count": 11,
   "outputs": [
    {
     "name": "stdout",
     "output_type": "stream",
     "text": [
      "0 False\n",
      "1 False\n",
      "2 False\n",
      "3 False\n",
      "4 False\n",
      "5 False\n",
      "6 False\n",
      "7 False\n",
      "8 False\n",
      "9 False\n"
     ]
    }
   ],
   "source": [
    "for i in range(len(eff_eps2d_wu)):\n",
    "    print(i, np.allclose(guided2d_gao[i,:,:], guided2d_wu[:,:,i]))"
   ],
   "metadata": {
    "collapsed": false
   }
  },
  {
   "cell_type": "code",
   "execution_count": null,
   "outputs": [],
   "source": [],
   "metadata": {
    "collapsed": false
   }
  }
 ],
 "metadata": {
  "kernelspec": {
   "display_name": "Python 3",
   "language": "python",
   "name": "python3"
  },
  "language_info": {
   "codemirror_mode": {
    "name": "ipython",
    "version": 2
   },
   "file_extension": ".py",
   "mimetype": "text/x-python",
   "name": "python",
   "nbconvert_exporter": "python",
   "pygments_lexer": "ipython2",
   "version": "2.7.6"
  }
 },
 "nbformat": 4,
 "nbformat_minor": 0
}

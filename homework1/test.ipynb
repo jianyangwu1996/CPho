{
 "cells": [
  {
   "cell_type": "markdown",
   "source": [
    "# Homework 1"
   ],
   "metadata": {
    "collapsed": false
   }
  },
  {
   "cell_type": "code",
   "execution_count": 1,
   "outputs": [],
   "source": [
    "import numpy as np\n",
    "from homework1.Homework_1_function_headers_group4 import guided_modes_1DTE, guided_modes_2D\n",
    "import matplotlib.pyplot as plt"
   ],
   "metadata": {
    "collapsed": false
   }
  },
  {
   "cell_type": "code",
   "execution_count": 2,
   "outputs": [],
   "source": [
    "#global parameters\n",
    "lam = 0.78\n",
    "k0 = 2*np.pi/lam\n",
    "e_substrate = 2.25\n",
    "delta_e = 1.5e-2\n",
    "w = 15.0"
   ],
   "metadata": {
    "collapsed": false
   }
  },
  {
   "cell_type": "markdown",
   "source": [
    "## Task 1"
   ],
   "metadata": {
    "collapsed": false
   }
  },
  {
   "cell_type": "code",
   "execution_count": 3,
   "outputs": [],
   "source": [
    "# Test parameters for Task 1 (length unit in )\n",
    "grid_size = 120\n",
    "number_points = 601\n",
    "h = grid_size/(number_points - 1)\n",
    "xx = np.linspace( -grid_size/2, grid_size/2, number_points )\n",
    "prm = e_substrate + delta_e * np.exp(-(xx/w)**2)"
   ],
   "metadata": {
    "collapsed": false
   }
  },
  {
   "cell_type": "code",
   "execution_count": 4,
   "outputs": [],
   "source": [
    "eff_eps, guided = guided_modes_1DTE(prm, k0, h)"
   ],
   "metadata": {
    "collapsed": false
   }
  },
  {
   "cell_type": "code",
   "execution_count": 5,
   "outputs": [
    {
     "name": "stdout",
     "output_type": "stream",
     "text": [
      "[2.2640123  2.26209021 2.26027663 2.25857565 2.25699215 2.25553205\n",
      " 2.25420271 2.25301361 2.25197755 2.25111299 2.25044991 2.25004544]\n"
     ]
    }
   ],
   "source": [
    "epsilon = e_substrate + delta_e * np.exp(-(xx/w)**2)\n",
    "e_max = epsilon.max()\n",
    "eff_eps_selected = eff_eps[(eff_eps > e_substrate) & (eff_eps < prm.max())]\n",
    "print(eff_eps_selected)"
   ],
   "metadata": {
    "collapsed": false
   }
  },
  {
   "cell_type": "markdown",
   "source": [
    "## Task 2"
   ],
   "metadata": {
    "collapsed": false
   }
  },
  {
   "cell_type": "code",
   "execution_count": 6,
   "outputs": [],
   "source": [
    "#2D Example Parameters\n",
    "grid_size = 120\n",
    "number_points = 301\n",
    "numb = 10\n",
    "h = grid_size/(number_points - 1)\n",
    "xx = np.linspace(-grid_size/2-h,grid_size/2+h,number_points+2)\n",
    "yy = np.linspace(-grid_size/2,grid_size/2,number_points)\n",
    "XX,YY = np.meshgrid(xx,yy)\n",
    "prm = e_substrate + delta_e * np.exp(-(XX**2+YY**2)/w**2)"
   ],
   "metadata": {
    "collapsed": false
   }
  },
  {
   "cell_type": "code",
   "execution_count": null,
   "outputs": [],
   "source": [
    "eff_eps2, guided2 = guided_modes_2D(prm, k0, h, numb)"
   ],
   "metadata": {
    "collapsed": false
   }
  }
 ],
 "metadata": {
  "kernelspec": {
   "display_name": "Python 3",
   "language": "python",
   "name": "python3"
  },
  "language_info": {
   "codemirror_mode": {
    "name": "ipython",
    "version": 2
   },
   "file_extension": ".py",
   "mimetype": "text/x-python",
   "name": "python",
   "nbconvert_exporter": "python",
   "pygments_lexer": "ipython2",
   "version": "2.7.6"
  }
 },
 "nbformat": 4,
 "nbformat_minor": 0
}

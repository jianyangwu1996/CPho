{
 "cells": [
  {
   "cell_type": "markdown",
   "source": [
    "# Homework 1"
   ],
   "metadata": {
    "collapsed": false
   }
  },
  {
   "cell_type": "code",
   "execution_count": 1,
   "outputs": [],
   "source": [
    "import numpy as np\n",
    "from homework1.Homework_1_function_headers_group4 import guided_modes_1DTE, guided_modes_2D\n",
    "from homework1.gao import guided_modes_1DTE as g1\n",
    "from homework1.gao import guided_modes_2D_direct as g2"
   ],
   "metadata": {
    "collapsed": false
   }
  },
  {
   "cell_type": "code",
   "execution_count": 2,
   "outputs": [],
   "source": [
    "#global parameters\n",
    "lam = 0.78\n",
    "k0 = 2*np.pi/lam\n",
    "e_substrate = 2.25\n",
    "delta_e = 1.5e-2\n",
    "w = 15.0"
   ],
   "metadata": {
    "collapsed": false
   }
  },
  {
   "cell_type": "markdown",
   "source": [
    "## Task 1"
   ],
   "metadata": {
    "collapsed": false
   }
  },
  {
   "cell_type": "code",
   "execution_count": 3,
   "outputs": [],
   "source": [
    "# Test parameters for Task 1 (length unit in )\n",
    "grid_size = 120\n",
    "number_points = 601\n",
    "h = grid_size/(number_points - 1)\n",
    "xx = np.linspace( -grid_size/2, grid_size/2, number_points )\n",
    "prm = e_substrate + delta_e * np.exp(-(xx/w)**2)"
   ],
   "metadata": {
    "collapsed": false
   }
  },
  {
   "cell_type": "code",
   "execution_count": 4,
   "outputs": [],
   "source": [
    "eff_eps, guided = guided_modes_1DTE(prm, k0, h)"
   ],
   "metadata": {
    "collapsed": false
   }
  },
  {
   "cell_type": "code",
   "execution_count": 5,
   "outputs": [],
   "source": [
    "eff_eps_g, guided_gao = g1(prm, k0, h)"
   ],
   "metadata": {
    "collapsed": false
   }
  },
  {
   "cell_type": "code",
   "execution_count": 12,
   "outputs": [
    {
     "name": "stdout",
     "output_type": "stream",
     "text": [
      "True\n",
      "0 True\n",
      "1 False\n",
      "2 True\n",
      "3 True\n",
      "4 True\n",
      "5 False\n",
      "6 True\n",
      "7 True\n",
      "8 False\n",
      "9 False\n",
      "10 True\n",
      "11 True\n"
     ]
    }
   ],
   "source": [
    "e_max = prm.max()\n",
    "eff_eps_selected = eff_eps[(eff_eps > e_substrate) & (eff_eps < prm.max())]\n",
    "guided_selected = guided[:, (eff_eps > e_substrate) & (eff_eps < prm.max())]\n",
    "print(np.allclose(eff_eps_g, eff_eps_selected))\n",
    "for i in range(12):\n",
    "    print(i, np.allclose(guided_selected[:, i], guided_gao[:, i]))"
   ],
   "metadata": {
    "collapsed": false
   }
  },
  {
   "cell_type": "markdown",
   "source": [
    "## Task 2"
   ],
   "metadata": {
    "collapsed": false
   }
  },
  {
   "cell_type": "code",
   "execution_count": 13,
   "outputs": [],
   "source": [
    "#2D Example Parameters\n",
    "grid_size = 120\n",
    "number_points = 301\n",
    "numb = 10\n",
    "h = grid_size/(number_points - 1)\n",
    "xx = np.linspace(-grid_size/2-h,grid_size/2+h,number_points+2)\n",
    "yy = np.linspace(-grid_size/2,grid_size/2,number_points)\n",
    "XX,YY = np.meshgrid(xx,yy)\n",
    "prm = e_substrate + delta_e * np.exp(-(XX**2+YY**2)/w**2)"
   ],
   "metadata": {
    "collapsed": false
   }
  },
  {
   "cell_type": "code",
   "execution_count": 14,
   "outputs": [],
   "source": [
    "eff_eps2, guided2 = guided_modes_2D(prm, k0, h, numb)"
   ],
   "metadata": {
    "collapsed": false
   }
  },
  {
   "cell_type": "code",
   "execution_count": 15,
   "outputs": [
    {
     "name": "stdout",
     "output_type": "stream",
     "text": [
      "<function guided_modes_2D_direct.<locals>.<lambda> at 0x7fce41a24160>\n"
     ]
    }
   ],
   "source": [
    "eff_eps_g2 = g2(prm, k0, h, numb)"
   ],
   "metadata": {
    "collapsed": false
   }
  },
  {
   "cell_type": "code",
   "execution_count": null,
   "outputs": [],
   "source": [],
   "metadata": {
    "collapsed": false
   }
  }
 ],
 "metadata": {
  "kernelspec": {
   "display_name": "Python 3",
   "language": "python",
   "name": "python3"
  },
  "language_info": {
   "codemirror_mode": {
    "name": "ipython",
    "version": 2
   },
   "file_extension": ".py",
   "mimetype": "text/x-python",
   "name": "python",
   "nbconvert_exporter": "python",
   "pygments_lexer": "ipython2",
   "version": "2.7.6"
  }
 },
 "nbformat": 4,
 "nbformat_minor": 0
}

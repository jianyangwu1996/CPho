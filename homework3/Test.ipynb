{
 "cells": [
  {
   "cell_type": "code",
   "execution_count": 1,
   "id": "634a9c10",
   "metadata": {},
   "outputs": [],
   "source": [
    "import numpy as np\n",
    "import matplotlib.pyplot as plt\n",
    "import matplotlib.cm as cm\n",
    "import matplotlib.colors as color\n",
    "from os import times"
   ]
  },
  {
   "cell_type": "code",
   "execution_count": 2,
   "outputs": [],
   "source": [
    "background_dark = True\n",
    "if background_dark:\n",
    "    plt.style.use('dark_background')"
   ],
   "metadata": {
    "collapsed": false
   }
  },
  {
   "cell_type": "code",
   "execution_count": 3,
   "id": "ad16c2a0",
   "metadata": {},
   "outputs": [],
   "source": [
    "def fdtd_1d(eps_rel, dx, time_span, source_frequency, source_position,\n",
    "            source_pulse_length):\n",
    "    '''Computes the temporal evolution of a pulsed excitation using the\n",
    "    1D FDTD method. The temporal center of the pulse is placed at a\n",
    "    simulation time of 3*source_pulse_length. The origin x=0 is in the\n",
    "    center of the computational domain. All quantities have to be\n",
    "    specified in SI units.\n",
    "\n",
    "    Arguments\n",
    "    ---------\n",
    "        eps_rel : 1d-array\n",
    "            Rel. permittivity distribution within the computational domain.\n",
    "        dx : float\n",
    "            Spacing of the simulation grid (please ensure dx <= lambda/20).\n",
    "        time_span : float\n",
    "            Time span of simulation.\n",
    "        source_frequency : float\n",
    "            Frequency of current source.\n",
    "        source_position : float\n",
    "            Spatial position of current source.\n",
    "        source_pulse_length :\n",
    "            Temporal width of Gaussian envelope of the source.\n",
    "    '''\n",
    "    # Constants\n",
    "    c = 2.99792458e8  # Speed of light [m/s]\n",
    "    mu0 = 4 * np.pi * 1e-7  # Vacuum permeability [Vs/(Am)]\n",
    "    eps0 = 1 / (mu0 * c**2)  # Vacuum permittivity [As/(Vm)]\n",
    "    Z0 = np.sqrt(mu0 / eps0)  # Vacuum impedance [Ohm]\n",
    "\n",
    "    # Geometry parameters\n",
    "    x_span = 18e-6\n",
    "    dt = dx / (2 * c)\n",
    "\n",
    "    # Coordinates\n",
    "    x = np.linspace(-x_span/2, x_span/2, int(round(x_span/dx)) + 1) #1201\n",
    "    t = np.arange(0, time_span, dt) #2399\n",
    "    \n",
    "    # Source\n",
    "    carrier = np.exp(-2*np.pi*1j*source_frequency*t)\n",
    "    jz_spatial_distribution = np.zeros_like(x)\n",
    "    jz_spatial_distribution[np.abs(x - source_position) < 1e-10] = 1\n",
    "    envelope = np.exp(-((t - 3*source_pulse_length) ** 2) / (source_pulse_length ** 2))\n",
    "    jz = jz_spatial_distribution * carrier[:, np.newaxis] * envelope[:, np.newaxis]\n",
    "\n",
    "    # Field arrays\n",
    "    Ez = np.zeros((len(t), len(x)))\n",
    "    Hy = np.zeros((len(t), len(x)))\n",
    "    \n",
    "    \n",
    "    \n",
    "    # FDTD loop\n",
    "    for n in range(1, len(t)-1):\n",
    "        # Update Ez\n",
    "        for j in range(1, len(x) - 1):\n",
    "            Ez[n+1, j] = Ez[n, j] + np.real((dt / (dx * eps_rel[j])) * (Hy[n, j] - Hy[n, j-1])-dt/(eps0*eps_rel[j])*jz[n, j])\n",
    "        # Update Hy\n",
    "        for j in range(len(x) - 1):\n",
    "            Hy[n+1, j]=Hy[n, j]+1/mu0*dt/dx*(Ez[n+1, j+1]-Ez[n+1, j])\n",
    "\n",
    "    \n",
    "    '''\n",
    "    Returns\n",
    "    -------\n",
    "        Ez : 2d-array\n",
    "            Z-component of E(x,t) (each row corresponds to one time step)\n",
    "        Hy : 2d-array\n",
    "            Y-component of H(x,t) (each row corresponds to one time step)\n",
    "        x  : 1d-array\n",
    "            Spatial coordinates of the field output\n",
    "        t  : 1d-array\n",
    "            Time of the field output\n",
    "    '''\n",
    "    return Ez, Hy, x, t"
   ]
  },
  {
   "cell_type": "code",
   "execution_count": 4,
   "id": "e9040954",
   "metadata": {},
   "outputs": [],
   "source": [
    "# constants\n",
    "c = 2.99792458e8 # speed of light [m/s] \n",
    "mu0 = 4*np.pi*1e-7 # vacuum permeability [Vs/(Am)]\n",
    "eps0 = 1/(mu0*c**2) # vacuum permittivity [As/(Vm)]\n",
    "Z0 = np.sqrt(mu0/eps0) # vacuum impedance [Ohm]\n",
    "\n",
    "\n",
    "# geometry parameters\n",
    "x_span = 18e-6 # width of computatinal domain [m]\n",
    "n1 = 1 # refractive index in front of interface\n",
    "n2 = 2 # refractive index behind interface\n",
    "x_interface = x_span/4 #postion of dielectric interface\n",
    "\n",
    "# simulation parameters\n",
    "dx = 15e-9 # grid spacing [m]\n",
    "time_span = 60e-15 # duration of simulation [s]\n",
    "\n",
    "Nx = int(round(x_span/dx)) + 1 # number of grid points\n",
    "\n",
    "# source parameters\n",
    "source_frequency = 500e12 # [Hz]\n",
    "source_position = 0 # [m]\n",
    "source_pulse_length = 1e-15 # [s]"
   ]
  },
  {
   "cell_type": "code",
   "execution_count": 5,
   "id": "117e86e6",
   "metadata": {},
   "outputs": [],
   "source": [
    "eps_rel=eps0*np.ones((Nx,))"
   ]
  },
  {
   "cell_type": "code",
   "execution_count": 5,
   "id": "81128cf2",
   "metadata": {},
   "outputs": [],
   "source": [
    "Ez, Hy, x, t=fdtd_1d(eps_rel, dx, time_span, source_frequency, source_position, source_pulse_length)"
   ]
  },
  {
   "cell_type": "code",
   "execution_count": 6,
   "outputs": [
    {
     "name": "stdout",
     "output_type": "stream",
     "text": [
      "(2399, 1201)\n",
      "(2399, 1201)\n",
      "(1201,)\n",
      "(2399,)\n"
     ]
    }
   ],
   "source": [
    "print(Ez.shape)\n",
    "print(Hy.shape)\n",
    "print(x.shape)\n",
    "print(t.shape)"
   ],
   "metadata": {
    "collapsed": false
   }
  },
  {
   "cell_type": "code",
   "execution_count": 12,
   "outputs": [
    {
     "data": {
      "text/plain": "<matplotlib.colorbar.Colorbar at 0x7f9c08b600a0>"
     },
     "execution_count": 12,
     "metadata": {},
     "output_type": "execute_result"
    },
    {
     "data": {
      "text/plain": "<Figure size 640x480 with 2 Axes>",
      "image/png": "[encoded data removed]"
     },
     "metadata": {},
     "output_type": "display_data"
    }
   ],
   "source": [
    "norm = color.Normalize(Ez.real.min(), Ez.real.max())\n",
    "twilight = cm.ScalarMappable(norm=norm, cmap=\"twilight\")\n",
    "plt.imshow(Ez.real, cmap=\"twilight\")\n",
    "plt.colorbar(twilight)"
   ],
   "metadata": {
    "collapsed": false
   }
  },
  {
   "cell_type": "code",
   "execution_count": null,
   "outputs": [],
   "source": [],
   "metadata": {
    "collapsed": false
   }
  }
 ],
 "metadata": {
  "kernelspec": {
   "display_name": "Python 3 (ipykernel)",
   "language": "python",
   "name": "python3"
  },
  "language_info": {
   "codemirror_mode": {
    "name": "ipython",
    "version": 3
   },
   "file_extension": ".py",
   "mimetype": "text/x-python",
   "name": "python",
   "nbconvert_exporter": "python",
   "pygments_lexer": "ipython3",
   "version": "3.10.9"
  }
 },
 "nbformat": 4,
 "nbformat_minor": 5
}

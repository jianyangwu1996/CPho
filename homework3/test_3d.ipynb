{
 "cells": [
  {
   "cell_type": "code",
   "execution_count": 1,
   "metadata": {
    "collapsed": true
   },
   "outputs": [],
   "source": [
    "import numpy as np\n",
    "import matplotlib.pyplot as plt\n",
    "from matplotlib import animation\n",
    "from homework3.fdtd_functions import fdtd_3d as fdtd3\n",
    "from homework3.function_headers_fdtd import fdtd_3d"
   ]
  },
  {
   "cell_type": "code",
   "execution_count": 2,
   "outputs": [],
   "source": [
    "freq = 500e12 #500THz\n",
    "tau = 1e-15  #1fs\n",
    "dr = 30e-9  #30nm\n",
    "T = 10e-15  #10fs"
   ],
   "metadata": {
    "collapsed": false
   }
  },
  {
   "cell_type": "code",
   "execution_count": 3,
   "outputs": [],
   "source": [
    "eps = np.ones((199,201,5))\n",
    "jx = np.zeros((199,201,5))\n",
    "jy = np.zeros((199,201,5))\n",
    "x = np.linspace(-(199//2), 199//2, 199) * dr\n",
    "y = np.linspace(-(201//2), 201//2, 201) * dr\n",
    "w = 2 * dr\n",
    "YY, XX = np.meshgrid(y,x)\n",
    "jz = np.exp(-(XX**2+YY**2)/w**2)\n",
    "jz = jz[...,np.newaxis]\n",
    "jz = np.repeat(jz,5,2)"
   ],
   "metadata": {
    "collapsed": false
   }
  },
  {
   "cell_type": "code",
   "execution_count": 5,
   "outputs": [
    {
     "name": "stdout",
     "output_type": "stream",
     "text": [
      "Iteration 200 of 200, elapsed 3.047s, remaining 0s, 65.3101 iter/s\n",
      "(7.894075e-06+5.1875963e-06j)\n"
     ]
    }
   ],
   "source": [
    "F, t = fdtd3(eps_rel=eps, dr=dr, time_span=T, freq=freq, tau=tau, jx=jx, jy=jy, jz=jz, field_component='ez', z_ind=2, output_step=4)\n",
    "print(F.max())"
   ],
   "metadata": {
    "collapsed": false
   }
  },
  {
   "cell_type": "code",
   "execution_count": null,
   "outputs": [],
   "source": [],
   "metadata": {
    "collapsed": false
   }
  }
 ],
 "metadata": {
  "kernelspec": {
   "display_name": "Python 3",
   "language": "python",
   "name": "python3"
  },
  "language_info": {
   "codemirror_mode": {
    "name": "ipython",
    "version": 2
   },
   "file_extension": ".py",
   "mimetype": "text/x-python",
   "name": "python",
   "nbconvert_exporter": "python",
   "pygments_lexer": "ipython2",
   "version": "2.7.6"
  }
 },
 "nbformat": 4,
 "nbformat_minor": 0
}
